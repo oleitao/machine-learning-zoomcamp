{
 "cells": [
  {
   "cell_type": "markdown",
   "id": "ecba6520",
   "metadata": {},
   "source": [
    "## Homework\n",
    "\n",
    "### Set up the environment\n",
    "\n",
    "You need to install Python, NumPy, Pandas, Matplotlib and Seaborn. For that, you can use the instructions from\n",
    "[06-environment.md](../../../01-intro/06-environment.md).\n",
    "\n",
    "### Q1. Pandas version\n",
    "\n",
    "What's the version of Pandas that you installed?\n",
    "\n",
    "You can get the version information using the `__version__` field:\n"
   ]
  },
  {
   "cell_type": "code",
   "execution_count": null,
   "id": "1763e5a7",
   "metadata": {},
   "outputs": [],
   "source": [
    "pd.__version__"
   ]
  },
  {
   "cell_type": "markdown",
   "id": "bf15e6e5",
   "metadata": {},
   "source": [
    "\n",
    "### Getting the data \n",
    "\n",
    "For this homework, we'll use the Car Fuel Efficiency dataset. Download it from <a href='https://raw.githubusercontent.com/alexeygrigorev/datasets/master/car_fuel_efficiency.csv'>here</a>.\n",
    "\n",
    "You can do it with wget:"
   ]
  },
  {
   "cell_type": "markdown",
   "id": "e2fcacc0",
   "metadata": {},
   "source": [
    "```bash\n",
    "wget https://raw.githubusercontent.com/alexeygrigorev/datasets/master/car_fuel_efficiency.csv\n",
    "```\n",
    "\n",
    "Or just open it with your browser and click \"Save as...\".\n",
    "\n",
    "Now read it with Pandas.\n",
    "\n",
    "**How I got the result**\n",
    "\n",
    "Used attribute `__version__` pandas:\n"
   ]
  },
  {
   "cell_type": "code",
   "execution_count": null,
   "id": "b1e1ef4c",
   "metadata": {},
   "outputs": [],
   "source": [
    "import pandas as pd\n",
    "pd.__version__\n",
    "# 2.3.2"
   ]
  },
  {
   "cell_type": "markdown",
   "id": "735af6c0",
   "metadata": {},
   "source": [
    "Q1 — Pandas version: 2.3.2\n",
    "\n",
    "### Q2. Records count\n",
    "\n",
    "How many records are in the dataset?\n",
    "\n",
    "- 4704\n",
    "- 8704\n",
    "- 9704\n",
    "- 17704\n",
    "\n",
    "Counted the number of rows in the DataFrame:\n"
   ]
  },
  {
   "cell_type": "code",
   "execution_count": null,
   "id": "46528878",
   "metadata": {},
   "outputs": [],
   "source": [
    "import pandas as pd\n",
    "df = pd.read_csv(\"https://raw.githubusercontent.com/alexeygrigorev/datasets/master/car_fuel_efficiency.csv\")\n",
    "len(df)        # 9704\n",
    "# ou: df.shape[0]"
   ]
  },
  {
   "cell_type": "markdown",
   "id": "ae869dc8",
   "metadata": {},
   "source": [
    "Q2 — Records count: 9704\n",
    "\n",
    "### Q3. Fuel types\n",
    "\n",
    "How many fuel types are presented in the dataset?\n",
    "\n",
    "- 1\n",
    "- 2\n",
    "- 3\n",
    "- 4\n",
    "\n",
    "Counted the number of distinct categories in `fuel_type` and checked the distribution:\n"
   ]
  },
  {
   "cell_type": "code",
   "execution_count": null,
   "id": "0bf7dd0c",
   "metadata": {},
   "outputs": [],
   "source": [
    "df['fuel_type'].nunique()        # 2\n",
    "df['fuel_type'].value_counts()   # optional: to see which and how many of each"
   ]
  },
  {
   "cell_type": "markdown",
   "id": "32042f0e",
   "metadata": {},
   "source": [
    "Q3 — Fuel types: 2\n",
    "\n",
    "### Q4. Missing values\n",
    "\n",
    "How many columns in the dataset have missing values?\n",
    "\n",
    "- 0\n",
    "- 1\n",
    "- 2\n",
    "- 3\n",
    "\n",
    "Checked, per column, if there is at least one missing value and counted how many columns have them:\n"
   ]
  },
  {
   "cell_type": "code",
   "execution_count": null,
   "id": "5f9f5a8d",
   "metadata": {},
   "outputs": [],
   "source": [
    "cols_com_na = df.columns[df.isna().any()]\n",
    "qtd_cols_com_na = df.isna().any().sum()\n",
    "list(cols_com_na)"
   ]
  },
  {
   "cell_type": "markdown",
   "id": "2e05aded",
   "metadata": {},
   "source": [
    "\n",
    "> Since the options did not include 4, I selected the closest one (3), as instructed in the assignment.\n",
    "Q4 — Columns with missing values: 4\n",
    "\n",
    "### Q5. Max fuel efficiency\n",
    "\n",
    "What's the maximum fuel efficiency of cars from Asia?\n",
    "\n",
    "- 13.75\n",
    "- 23.75\n",
    "- 33.75\n",
    "- 43.75\n",
    "\n",
    "Filtered the records where `origin == 'Asia'` and calculated the maximum of the efficiency column. Depending on the dataset version, the column may be named `fuel_efficiency`, `combined_mpg` or `fuel_efficiency_mpg`. Below I show a robust approach that automatically finds an efficiency/MPG column:\n"
   ]
  },
  {
   "cell_type": "code",
   "execution_count": null,
   "id": "be5ab41c",
   "metadata": {},
   "outputs": [],
   "source": [
    "df_asia = df[df['origin'] == 'Asia']\n",
    "\n",
    "candidatas = [c for c in df.columns \n",
    "              if 'efficien' in c.lower() or c.lower().endswith('mpg') or 'mpg' in c.lower()]\n",
    "\n",
    "col_ef = candidatas[0]\n",
    "df_asia[col_ef].max()"
   ]
  },
  {
   "cell_type": "markdown",
   "id": "f95b2e88",
   "metadata": {},
   "source": [
    "Q5 — Max fuel efficiency (Asia): 23.75\n",
    "\n",
    "### Q6. Median value of horsepower\n",
    "\n",
    "\n",
    "\n",
    "1. Find the median value of `horsepower` column in the dataset.\n",
    "2. Next, calculate the most frequent value of the same `horsepower` column.\n",
    "3. Use `fillna` method to fill the missing values in `horsepower` column with the most frequent value from the previous step.\n",
    "4. Now, calculate the median value of `horsepower` once again.\n",
    "\n",
    "Has it changed?\n",
    "\n",
    "\n",
    "- Yes, it increased\n",
    "- Yes, it decreased\n",
    "- No\n",
    "\n",
    "1) Original median of `horsepower`:\n"
   ]
  },
  {
   "cell_type": "code",
   "execution_count": null,
   "id": "94b722de",
   "metadata": {},
   "outputs": [],
   "source": [
    "mediana_antes = df['horsepower'].median()"
   ]
  },
  {
   "cell_type": "markdown",
   "id": "292f289a",
   "metadata": {},
   "source": [
    "\n",
    "2) Mode (most frequent value) of `horsepower`:\n"
   ]
  },
  {
   "cell_type": "code",
   "execution_count": null,
   "id": "df40b3a6",
   "metadata": {},
   "outputs": [],
   "source": [
    "moda_hp = df['horsepower'].mode()[0]"
   ]
  },
  {
   "cell_type": "markdown",
   "id": "3ad584a7",
   "metadata": {},
   "source": [
    "\n",
    "3) Filling the missing values with the mode:\n"
   ]
  },
  {
   "cell_type": "code",
   "execution_count": null,
   "id": "7bc40906",
   "metadata": {},
   "outputs": [],
   "source": [
    "df_hp = df.copy()\n",
    "df_hp['horsepower'] = df_hp['horsepower'].fillna(moda_hp)"
   ]
  },
  {
   "cell_type": "markdown",
   "id": "67cbc47c",
   "metadata": {},
   "source": [
    "\n",
    "4) New median and comparison:\n"
   ]
  },
  {
   "cell_type": "code",
   "execution_count": null,
   "id": "a47c8466",
   "metadata": {},
   "outputs": [],
   "source": [
    "mediana_after = df_hp['horsepower'].median()\n",
    "change = (\"increase\" if mediana_after > mediana_before\n",
    "         else \"reduce\" if mediana_after < mediana_before\n",
    "         else \"don't change\")"
   ]
  },
  {
   "cell_type": "markdown",
   "id": "7d1990d5",
   "metadata": {},
   "source": [
    "Q6 — Median horsepower change: Yes, it increased (149.0 → 152.0 after filling with mode=152)\n",
    "\n",
    "### Q7. Sum of weights\n",
    "\n",
    "1. Select all the cars from Asia\n",
    "2. Select only columns `vehicle_weight` and `model_year`\n",
    "3. Select the first 7 values\n",
    "4. Get the underlying NumPy array. Let's call it `X`.\n",
    "5. Compute matrix-matrix multiplication between the transpose of `X` and `X`. To get the transpose, use `X.T`. Let's call the result `XTX`.\n",
    "6. Invert `XTX`.\n",
    "7. Create an array `y` with values `[1100, 1300, 800, 900, 1000, 1100, 1200]`.\n",
    "8. Multiply the inverse of `XTX` with the transpose of `X`, and then multiply the result by `y`. Call the result `w`.\n",
    "9. What's the sum of all the elements of the result?\n",
    "\n",
    "> **Note**: You just implemented linear regression. We'll talk about it in the next lesson.\n",
    "\n",
    "- 0.051\n",
    "- 0.51\n",
    "- 5.1\n",
    "- 51\n",
    "\n",
    "1) Select cars from Asia  \n",
    "2) Select columns `vehicle_weight` and `model_year`  \n",
    "3) Take the first 7 rows  \n",
    "4) Get `X` as `ndarray`  \n",
    "5) Compute `XTX = X.T @ X`  \n",
    "6) Invert `XTX`  \n",
    "7) Create `y = [1100, 1300, 800, 900, 1000, 1100, 1200]`  \n",
    "8) Compute `w = (XTX^-1) @ X.T @ y`  \n",
    "9) Sum the elements of `w`\n"
   ]
  },
  {
   "cell_type": "code",
   "execution_count": null,
   "id": "ef0f323f",
   "metadata": {},
   "outputs": [],
   "source": [
    "import numpy as np\n",
    "from numpy.linalg import inv\n",
    "\n",
    "asia = df[df['origin'] == 'Asia'][['vehicle_weight', 'model_year']].iloc[:7]\n",
    "X = asia.to_numpy(dtype=float)\n",
    "\n",
    "XTX = X.T @ X\n",
    "XTX_inv = inv(XTX)\n",
    "\n",
    "y = np.array([1100, 1300, 800, 900, 1000, 1100, 1200], dtype=float)\n",
    "\n",
    "w = XTX_inv @ X.T @ y\n",
    "w.sum()"
   ]
  },
  {
   "cell_type": "markdown",
   "id": "e9e70d9f",
   "metadata": {},
   "source": [
    "Q7 — Sum of weights: 0.51 (sum ≈ 0.5187709)\n",
    "\n",
    "## Submit the results\n",
    "\n",
    "* Submit your results here: https://courses.datatalks.club/ml-zoomcamp-2025/homework/hw01\n",
    "* If your answer doesn't match options exactly, select the closest one"
   ]
  }
 ],
 "metadata": {
  "kernelspec": {
   "display_name": "Python 3",
   "language": "python",
   "name": "python3"
  },
  "language_info": {
   "name": "python",
   "pygments_lexer": "ipython3"
  }
 },
 "nbformat": 4,
 "nbformat_minor": 5
}