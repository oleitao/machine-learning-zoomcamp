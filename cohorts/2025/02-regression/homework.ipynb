{
 "cells": [
  {
   "cell_type": "markdown",
   "id": "b4f88fab",
   "metadata": {},
   "source": [
    "# ML Zoomcamp 2025 — Module 2: Regression — Homework Solutions\n",
    "\n",
    "This notebook demonstrates how to solve each exercise in the homework using the Car Fuel Efficiency dataset.\n",
    "\n",
    "Dataset URL: https://raw.githubusercontent.com/alexeygrigorev/datasets/master/car_fuel_efficiency.csv"
   ]
  },
  {
   "cell_type": "code",
   "execution_count": 1,
   "id": "9c7de568",
   "metadata": {},
   "outputs": [],
   "source": [
    "import numpy as np\n",
    "import pandas as pd\n",
    "from urllib.error import URLError\n",
    "\n",
    "SEED_DEFAULT = 42\n",
    "DATA_URL = 'https://raw.githubusercontent.com/alexeygrigorev/datasets/master/car_fuel_efficiency.csv'\n",
    "LOCAL_CSV = 'car_fuel_efficiency.csv'  # fallback if file is saved locally in the same folder\n",
    "FEATURES = ['engine_displacement', 'horsepower', 'vehicle_weight', 'model_year']\n",
    "TARGET = 'fuel_efficiency_mpg'\n",
    "\n",
    "def load_dataset(url=DATA_URL, local_csv=LOCAL_CSV):\n",
    "    try:\n",
    "        df = pd.read_csv(url)\n",
    "    except URLError:\n",
    "        df = pd.read_csv(local_csv)\n",
    "    except Exception as e:\n",
    "        print(f'Could not read from URL due to: {e}. Trying local file...')\n",
    "        df = pd.read_csv(local_csv)\n",
    "    return df.copy()\n",
    "\n",
    "def to_numeric(df, columns):\n",
    "    for c in columns:\n",
    "        df[c] = pd.to_numeric(df[c], errors='coerce')\n",
    "    return df\n",
    "\n",
    "def rmse(y, y_pred):\n",
    "    return np.sqrt(np.mean((y - y_pred) ** 2))\n",
    "\n",
    "def split_train_val_test(df, seed=SEED_DEFAULT, frac_train=0.6, frac_val=0.2):\n",
    "    n = len(df)\n",
    "    idx = np.arange(n)\n",
    "    rng = np.random.default_rng(seed)\n",
    "    rng.shuffle(idx)\n",
    "    n_train = int(n * frac_train)\n",
    "    n_val = int(n * frac_val)\n",
    "    train_idx = idx[:n_train]\n",
    "    val_idx = idx[n_train:n_train + n_val]\n",
    "    test_idx = idx[n_train + n_val:]\n",
    "\n",
    "    df_train = df.iloc[train_idx].reset_index(drop=True)\n",
    "    df_val = df.iloc[val_idx].reset_index(drop=True)\n",
    "    df_test = df.iloc[test_idx].reset_index(drop=True)\n",
    "    return df_train, df_val, df_test\n",
    "\n",
    "def prepare_X(df, features, impute_strategy=None, impute_value=None):\n",
    "    X = df[features].copy()\n",
    "    if impute_strategy == 'zero':\n",
    "        X = X.fillna(0)\n",
    "    elif impute_strategy == 'mean':\n",
    "        if impute_value is None:\n",
    "            raise ValueError('impute_value (dict) required when using mean strategy')\n",
    "        X = X.fillna(impute_value)\n",
    "    return X.values\n",
    "\n",
    "def train_linear_regression(X, y, r=0.0):\n",
    "    # Add bias term\n",
    "    ones = np.ones(X.shape[0])\n",
    "    X_ = np.column_stack([ones, X])\n",
    "    # Closed-form: w = (X^T X + rI)^(-1) X^T y; don't regularize bias\n",
    "    XTX = X_.T.dot(X_)\n",
    "    reg = r * np.eye(XTX.shape[0])\n",
    "    reg[0, 0] = 0.0\n",
    "    w_full = np.linalg.inv(XTX + reg).dot(X_.T).dot(y)\n",
    "    w0 = w_full[0]\n",
    "    w = w_full[1:]\n",
    "    return w0, w\n",
    "\n",
    "def predict(w0, w, X):\n",
    "    return w0 + X.dot(w)\n",
    "\n",
    "def nearest_option(value, options):\n",
    "    # returns the option (as in the provided list) nearest to value\n",
    "    return min(options, key=lambda o: abs(value - o))\n"
   ]
  },
  {
   "cell_type": "code",
   "execution_count": 2,
   "metadata": {},
   "outputs": [
    {
     "data": {
      "text/html": [
       "<div>\n",
       "<style scoped>\n",
       "    .dataframe tbody tr th:only-of-type {\n",
       "        vertical-align: middle;\n",
       "    }\n",
       "\n",
       "    .dataframe tbody tr th {\n",
       "        vertical-align: top;\n",
       "    }\n",
       "\n",
       "    .dataframe thead th {\n",
       "        text-align: right;\n",
       "    }\n",
       "</style>\n",
       "<table border=\"1\" class=\"dataframe\">\n",
       "  <thead>\n",
       "    <tr style=\"text-align: right;\">\n",
       "      <th></th>\n",
       "      <th>engine_displacement</th>\n",
       "      <th>horsepower</th>\n",
       "      <th>vehicle_weight</th>\n",
       "      <th>model_year</th>\n",
       "      <th>fuel_efficiency_mpg</th>\n",
       "    </tr>\n",
       "  </thead>\n",
       "  <tbody>\n",
       "    <tr>\n",
       "      <th>0</th>\n",
       "      <td>170</td>\n",
       "      <td>159.0</td>\n",
       "      <td>3413.433759</td>\n",
       "      <td>2003</td>\n",
       "      <td>13.231729</td>\n",
       "    </tr>\n",
       "    <tr>\n",
       "      <th>1</th>\n",
       "      <td>130</td>\n",
       "      <td>97.0</td>\n",
       "      <td>3149.664934</td>\n",
       "      <td>2007</td>\n",
       "      <td>13.688217</td>\n",
       "    </tr>\n",
       "    <tr>\n",
       "      <th>2</th>\n",
       "      <td>170</td>\n",
       "      <td>78.0</td>\n",
       "      <td>3079.038997</td>\n",
       "      <td>2018</td>\n",
       "      <td>14.246341</td>\n",
       "    </tr>\n",
       "    <tr>\n",
       "      <th>3</th>\n",
       "      <td>220</td>\n",
       "      <td>NaN</td>\n",
       "      <td>2542.392402</td>\n",
       "      <td>2009</td>\n",
       "      <td>16.912736</td>\n",
       "    </tr>\n",
       "    <tr>\n",
       "      <th>4</th>\n",
       "      <td>210</td>\n",
       "      <td>140.0</td>\n",
       "      <td>3460.870990</td>\n",
       "      <td>2009</td>\n",
       "      <td>12.488369</td>\n",
       "    </tr>\n",
       "  </tbody>\n",
       "</table>\n",
       "</div>"
      ],
      "text/plain": [
       "   engine_displacement  horsepower  vehicle_weight  model_year  \\\n",
       "0                  170       159.0     3413.433759        2003   \n",
       "1                  130        97.0     3149.664934        2007   \n",
       "2                  170        78.0     3079.038997        2018   \n",
       "3                  220         NaN     2542.392402        2009   \n",
       "4                  210       140.0     3460.870990        2009   \n",
       "\n",
       "   fuel_efficiency_mpg  \n",
       "0            13.231729  \n",
       "1            13.688217  \n",
       "2            14.246341  \n",
       "3            16.912736  \n",
       "4            12.488369  "
      ]
     },
     "execution_count": 2,
     "metadata": {},
     "output_type": "execute_result"
    }
   ],
   "source": [
    "# Load and prepare the dataset\n",
    "df_raw = load_dataset()\n",
    "df = df_raw.copy()\n",
    "df = to_numeric(df, FEATURES + [TARGET])\n",
    "df = df[FEATURES + [TARGET]].copy()\n",
    "df.head()"
   ]
  },
  {
   "cell_type": "markdown",
   "metadata": {},
   "source": [
    "## EDA: Target distribution\n",
    "Check whether the target `fuel_efficiency_mpg` has a long tail."
   ]
  },
  {
   "cell_type": "code",
   "execution_count": 3,
   "metadata": {},
   "outputs": [
    {
     "data": {
      "text/plain": [
       "(count    9704.000000\n",
       " mean       14.985243\n",
       " std         2.556468\n",
       " min         6.200971\n",
       " 25%        13.267459\n",
       " 50%        15.006037\n",
       " 75%        16.707965\n",
       " max        25.967222\n",
       " Name: fuel_efficiency_mpg, dtype: float64,\n",
       " np.float64(-0.012062219273507962))"
      ]
     },
     "execution_count": 3,
     "metadata": {},
     "output_type": "execute_result"
    }
   ],
   "source": [
    "df[TARGET].describe(), df[TARGET].skew()"
   ]
  },
  {
   "cell_type": "markdown",
   "metadata": {},
   "source": [
    "## Q1. Column with missing values\n",
    "Identify which feature column contains missing values."
   ]
  },
  {
   "cell_type": "code",
   "execution_count": 4,
   "metadata": {},
   "outputs": [
    {
     "data": {
      "text/plain": [
       "horsepower             708\n",
       "engine_displacement      0\n",
       "vehicle_weight           0\n",
       "model_year               0\n",
       "dtype: int64"
      ]
     },
     "metadata": {},
     "output_type": "display_data"
    },
    {
     "data": {
      "text/plain": [
       "'horsepower'"
      ]
     },
     "execution_count": 4,
     "metadata": {},
     "output_type": "execute_result"
    }
   ],
   "source": [
    "na_counts = df[FEATURES].isna().sum().sort_values(ascending=False)\n",
    "display(na_counts)\n",
    "missing_feature = na_counts.index[0] if na_counts.iloc[0] > 0 else None\n",
    "missing_feature"
   ]
  },
  {
   "cell_type": "markdown",
   "metadata": {},
   "source": [
    "## Q2. Median horsepower\n",
    "Compute the 50th percentile (median) of `horsepower`."
   ]
  },
  {
   "cell_type": "code",
   "execution_count": 5,
   "metadata": {},
   "outputs": [
    {
     "data": {
      "text/plain": [
       "(149.0, 149)"
      ]
     },
     "execution_count": 5,
     "metadata": {},
     "output_type": "execute_result"
    }
   ],
   "source": [
    "hp_median = float(df['horsepower'].median())\n",
    "hp_median, int(round(hp_median))"
   ]
  },
  {
   "cell_type": "markdown",
   "metadata": {},
   "source": [
    "## Prepare and split data (seed=42)\n",
    "Shuffle and split into train/val/test with 60%/20%/20%."
   ]
  },
  {
   "cell_type": "code",
   "execution_count": 6,
   "metadata": {},
   "outputs": [
    {
     "data": {
      "text/plain": [
       "(5822, 1940, 1942)"
      ]
     },
     "execution_count": 6,
     "metadata": {},
     "output_type": "execute_result"
    }
   ],
   "source": [
    "df_train, df_val, df_test = split_train_val_test(df, seed=SEED_DEFAULT)\n",
    "len(df_train), len(df_val), len(df_test)"
   ]
  },
  {
   "cell_type": "markdown",
   "metadata": {},
   "source": [
    "## Q3. Missing value strategies: 0 vs mean\n",
    "Train linear regression (no regularization) with two imputation strategies for the missing column from Q1, evaluate on validation, and compare RMSE."
   ]
  },
  {
   "cell_type": "code",
   "execution_count": 7,
   "metadata": {},
   "outputs": [
    {
     "name": "stdout",
     "output_type": "stream",
     "text": [
      "RMSE zero-fill: 0.52\n",
      "RMSE mean-fill: 0.47\n"
     ]
    },
    {
     "data": {
      "text/plain": [
       "'With mean'"
      ]
     },
     "execution_count": 7,
     "metadata": {},
     "output_type": "execute_result"
    }
   ],
   "source": [
    "# Zero fill\n",
    "X_train_zero = prepare_X(df_train, FEATURES, impute_strategy='zero')\n",
    "y_train = df_train[TARGET].values\n",
    "w0_zero, w_zero = train_linear_regression(X_train_zero, y_train, r=0.0)\n",
    "X_val_zero = prepare_X(df_val, FEATURES, impute_strategy='zero')\n",
    "y_val = df_val[TARGET].values\n",
    "y_pred_zero = predict(w0_zero, w_zero, X_val_zero)\n",
    "rmse_zero = rmse(y_val, y_pred_zero)\n",
    "\n",
    "# Mean fill (mean from train only)\n",
    "train_means = df_train[FEATURES].mean().to_dict()\n",
    "X_train_mean = prepare_X(df_train, FEATURES, impute_strategy='mean', impute_value=train_means)\n",
    "w0_mean, w_mean = train_linear_regression(X_train_mean, y_train, r=0.0)\n",
    "X_val_mean = prepare_X(df_val, FEATURES, impute_strategy='mean', impute_value=train_means)\n",
    "y_pred_mean = predict(w0_mean, w_mean, X_val_mean)\n",
    "rmse_mean = rmse(y_val, y_pred_mean)\n",
    "\n",
    "print('RMSE zero-fill:', round(rmse_zero, 2))\n",
    "print('RMSE mean-fill:', round(rmse_mean, 2))\n",
    "better_q3 = 'With 0' if rmse_zero < rmse_mean else ('With mean' if rmse_mean < rmse_zero else 'Both are equally good')\n",
    "better_q3"
   ]
  },
  {
   "cell_type": "markdown",
   "metadata": {},
   "source": [
    "## Q4. Regularized linear regression (fill NAs with 0)\n",
    "Try `r` in `[0, 0.01, 0.1, 1, 5, 10, 100]` and pick the one with the best validation RMSE (smallest `r` on ties)."
   ]
  },
  {
   "cell_type": "code",
   "execution_count": 8,
   "metadata": {},
   "outputs": [
    {
     "name": "stdout",
     "output_type": "stream",
     "text": [
      "r=0: RMSE=0.52\n",
      "r=0.01: RMSE=0.52\n",
      "r=0.1: RMSE=0.52\n",
      "r=1: RMSE=0.52\n",
      "r=5: RMSE=0.52\n",
      "r=10: RMSE=0.52\n",
      "r=100: RMSE=0.52\n"
     ]
    },
    {
     "data": {
      "text/plain": [
       "0"
      ]
     },
     "execution_count": 8,
     "metadata": {},
     "output_type": "execute_result"
    }
   ],
   "source": [
    "r_values = [0, 0.01, 0.1, 1, 5, 10, 100]\n",
    "results_q4 = {}\n",
    "Xtr = prepare_X(df_train, FEATURES, impute_strategy='zero')\n",
    "Xva = prepare_X(df_val, FEATURES, impute_strategy='zero')\n",
    "for r in r_values:\n",
    "    w0, w = train_linear_regression(Xtr, y_train, r=r)\n",
    "    y_pred = predict(w0, w, Xva)\n",
    "    results_q4[r] = rmse(y_val, y_pred)\n",
    "\n",
    "for r in r_values:\n",
    "    print(f'r={r}: RMSE={round(results_q4[r], 2)}')\n",
    "\n",
    "min_rmse = min(results_q4.values())\n",
    "best_rs = [r for r, s in results_q4.items() if abs(s - min_rmse) < 1e-12]\n",
    "best_r = sorted(best_rs)[0]\n",
    "best_r"
   ]
  },
  {
   "cell_type": "markdown",
   "metadata": {},
   "source": [
    "## Q5. Effect of random seed\n",
    "For seeds 0..9, split, fill NAs with 0, train (no regularization), evaluate on validation, compute std of RMSEs."
   ]
  },
  {
   "cell_type": "code",
   "execution_count": 9,
   "metadata": {},
   "outputs": [
    {
     "name": "stdout",
     "output_type": "stream",
     "text": [
      "RMSE scores: [np.float64(0.52), np.float64(0.52), np.float64(0.53), np.float64(0.52), np.float64(0.53), np.float64(0.53), np.float64(0.52), np.float64(0.51), np.float64(0.52), np.float64(0.53)]\n",
      "Std of RMSEs: 0.005\n"
     ]
    },
    {
     "data": {
      "text/plain": [
       "0.006"
      ]
     },
     "execution_count": 9,
     "metadata": {},
     "output_type": "execute_result"
    }
   ],
   "source": [
    "rmse_scores = []\n",
    "for seed in range(10):\n",
    "    dtr, dva, dte = split_train_val_test(df, seed=seed)\n",
    "    Xtr = prepare_X(dtr, FEATURES, impute_strategy='zero')\n",
    "    ytr = dtr[TARGET].values\n",
    "    Xva = prepare_X(dva, FEATURES, impute_strategy='zero')\n",
    "    yva = dva[TARGET].values\n",
    "    w0, w = train_linear_regression(Xtr, ytr, r=0.0)\n",
    "    y_pred = predict(w0, w, Xva)\n",
    "    rmse_scores.append(rmse(yva, y_pred))\n",
    "\n",
    "std_q5 = float(np.std(rmse_scores))\n",
    "rounded_std_q5 = round(std_q5, 3)\n",
    "print('RMSE scores:', [round(s,2) for s in rmse_scores])\n",
    "print('Std of RMSEs:', rounded_std_q5)\n",
    "nearest_q5 = nearest_option(rounded_std_q5, [0.001, 0.006, 0.060, 0.600])\n",
    "nearest_q5"
   ]
  },
  {
   "cell_type": "markdown",
   "metadata": {},
   "source": [
    "## Q6. Train on train+val (seed=9) with r=0.001\n",
    "Combine train and validation, fill NAs with 0, train with `r=0.001`, evaluate on test."
   ]
  },
  {
   "cell_type": "code",
   "execution_count": 10,
   "metadata": {},
   "outputs": [
    {
     "data": {
      "text/plain": [
       "(np.float64(0.505), 0.515)"
      ]
     },
     "execution_count": 10,
     "metadata": {},
     "output_type": "execute_result"
    }
   ],
   "source": [
    "dtr, dva, dte = split_train_val_test(df, seed=9)\n",
    "df_full = pd.concat([dtr, dva]).reset_index(drop=True)\n",
    "X_full = prepare_X(df_full, FEATURES, impute_strategy='zero')\n",
    "y_full = df_full[TARGET].values\n",
    "w0, w = train_linear_regression(X_full, y_full, r=0.001)\n",
    "X_te = prepare_X(dte, FEATURES, impute_strategy='zero')\n",
    "y_te = dte[TARGET].values\n",
    "y_pred_te = predict(w0, w, X_te)\n",
    "rmse_q6 = rmse(y_te, y_pred_te)\n",
    "rounded_rmse_q6 = round(rmse_q6, 3)\n",
    "rounded_rmse_q6, nearest_option(rounded_rmse_q6, [0.15, 0.515, 5.15, 51.5])"
   ]
  },
  {
   "cell_type": "markdown",
   "metadata": {},
   "source": [
    "## Summary of Answers\n",
    "Run the following cell to print the nearest multiple-choice options based on computed values."
   ]
  },
  {
   "cell_type": "code",
   "execution_count": 11,
   "metadata": {},
   "outputs": [
    {
     "data": {
      "text/plain": [
       "{'Q1': 'horsepower',\n",
       " 'Q2': 149,\n",
       " 'Q3': 'With mean',\n",
       " 'Q4': 0,\n",
       " 'Q5': 0.006,\n",
       " 'Q6': 0.515}"
      ]
     },
     "execution_count": 11,
     "metadata": {},
     "output_type": "execute_result"
    }
   ],
   "source": [
    "answers = {}\n",
    "# Q1\n",
    "answers['Q1'] = missing_feature\n",
    "# Q2\n",
    "answers['Q2'] = nearest_option(int(round(hp_median)), [49, 99, 149, 199])\n",
    "# Q3\n",
    "answers['Q3'] = better_q3\n",
    "# Q4\n",
    "answers['Q4'] = best_r\n",
    "# Q5\n",
    "answers['Q5'] = nearest_q5\n",
    "# Q6\n",
    "answers['Q6'] = nearest_option(rounded_rmse_q6, [0.15, 0.515, 5.15, 51.5])\n",
    "answers\n"
   ]
  }
 ],
 "metadata": {
  "kernelspec": {
   "display_name": "myenv",
   "language": "python",
   "name": "python3"
  },
  "language_info": {
   "codemirror_mode": {
    "name": "ipython",
    "version": 3
   },
   "file_extension": ".py",
   "mimetype": "text/x-python",
   "name": "python",
   "nbconvert_exporter": "python",
   "pygments_lexer": "ipython3",
   "version": "3.13.5"
  }
 },
 "nbformat": 4,
 "nbformat_minor": 5
}
