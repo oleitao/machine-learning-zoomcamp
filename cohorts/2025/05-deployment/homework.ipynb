{
  "cells": [
    {
      "cell_type": "markdown",
      "metadata": {},
      "source": [
        "# ML Zoomcamp 2025 — Homework 5 (Deployment)\n",
        "\n",
        "This notebook walks you through all tasks using **uv**, **FastAPI**, and **Docker**.\n",
        "\n",
        "**Tip:** Use Python **3.12** or **3.13**.\n",
        "\n",
        "> Run each cell in order. If a cell uses external tools (uv, Docker, wget) and you run into issues,\n",
        "run it in a terminal and return to the notebook for the parsing/verification steps."
      ]
    },
    {
      "cell_type": "markdown",
      "metadata": {},
      "source": [
        "## Setup\n",
        "This notebook assumes you have internet access and can install packages. If you're in a managed environment, you may need to run the shell commands in a local terminal instead."
      ]
    },
    {
      "cell_type": "markdown",
      "metadata": {},
      "source": [
        "## Question 1 — Install `uv` and check the version\n",
        "\n",
        "**Goal:** Find the version of `uv` you installed (using `uv --version` or `uv self version`).\n",
        "\n",
        "Expected answer format (example from the assignment text): **0.9.5**"
      ]
    },
    {
      "cell_type": "code",
      "execution_count": 24,
      "metadata": {
        "vscode": {
          "languageId": "shellscript"
        }
      },
      "outputs": [
        {
          "name": "stdout",
          "output_type": "stream",
          "text": [
            "Requirement already satisfied: uv in /Users/oleitao/Documents/Repos/DataTalks.Club/machine-learning-zoomcamp/.venv/lib/python3.13/site-packages (0.9.5)\n",
            "Note: you may need to restart the kernel to use updated packages.\n",
            "uv 0.9.5 (d5f39331a 2025-10-21)\n"
          ]
        }
      ],
      "source": [
        "# If you don't have uv yet, install it (choose one):\n",
        "# Option A: pip (works in many environments)\n",
        "%pip install -U uv\n",
        "!uv --version\n",
        "\n"
      ]
    },
    {
      "cell_type": "markdown",
      "metadata": {},
      "source": [
        "## Project skeleton (optional but recommended)\n",
        "You can do this homework in a clean folder. These cells will create a `hw05` folder and a minimal `pyproject.toml` later for Docker.\n"
      ]
    },
    {
      "cell_type": "code",
      "execution_count": 29,
      "metadata": {
        "vscode": {
          "languageId": "shellscript"
        }
      },
      "outputs": [
        {
          "name": "stdout",
          "output_type": "stream",
          "text": [
            "Initialized project `\u001b[36mhw05\u001b[39m` at `\u001b[36m/Users/oleitao/Documents/Repos/DataTalks.Club/machine-learning-zoomcamp/cohorts/2025/05-deployment/hw05\u001b[39m`\n",
            "\u001b[1m\u001b[33mwarning\u001b[39m\u001b[0m\u001b[1m:\u001b[0m \u001b[1m`VIRTUAL_ENV=/Users/oleitao/Documents/Repos/DataTalks.Club/machine-learning-zoomcamp/.venv` does not match the project environment path `.venv` and will be ignored; use `--active` to target the active environment instead\u001b[0m\n",
            "Using CPython 3.13.8 interpreter at: \u001b[36m/opt/homebrew/opt/python@3.13/bin/python3.13\u001b[39m\n",
            "Creating virtual environment at: \u001b[36m.venv\u001b[39m\n",
            "\u001b[2K\u001b[2mResolved \u001b[1m11 packages\u001b[0m \u001b[2min 358ms\u001b[0m\u001b[0m                                        \u001b[0m\n",
            "\u001b[2K\u001b[37m⠙\u001b[0m \u001b[2mPreparing packages...\u001b[0m (0/10)                                                  \n",
            "\u001b[2K\u001b[1A\u001b[37m⠙\u001b[0m \u001b[2mPreparing packages...\u001b[0m (0/10)-------------\u001b[0m\u001b[0m     0 B/14.27 KiB           \u001b[1A\n",
            "\u001b[2K\u001b[1A\u001b[37m⠙\u001b[0m \u001b[2mPreparing packages...\u001b[0m (0/10)-------------\u001b[0m\u001b[0m     0 B/14.27 KiB           \u001b[1A\n",
            "\u001b[2mtyping-inspection   \u001b[0m \u001b[32m\u001b[2m------------------------------\u001b[0m\u001b[0m     0 B/14.27 KiB\n",
            "\u001b[2K\u001b[2A\u001b[37m⠙\u001b[0m \u001b[2mPreparing packages...\u001b[0m (0/10)-------------\u001b[0m\u001b[0m     0 B/43.57 KiB           \u001b[2A\n",
            "\u001b[2mtyping-inspection   \u001b[0m \u001b[32m\u001b[2m------------------------------\u001b[0m\u001b[0m     0 B/14.27 KiB\n",
            "\u001b[2K\u001b[2A\u001b[37m⠙\u001b[0m \u001b[2mPreparing packages...\u001b[0m (0/10)-------------\u001b[0m\u001b[0m     0 B/43.57 KiB           \u001b[2A\n",
            "\u001b[2mtyping-inspection   \u001b[0m \u001b[32m\u001b[2m------------------------------\u001b[0m\u001b[0m     0 B/14.27 KiB\n",
            "\u001b[2K\u001b[2A\u001b[37m⠙\u001b[0m \u001b[2mPreparing packages...\u001b[0m (0/10)-------------\u001b[0m\u001b[0m     0 B/43.57 KiB           \u001b[2A\n",
            "\u001b[2mannotated-types     \u001b[0m \u001b[32m\u001b[2m------------------------------\u001b[0m\u001b[0m     0 B/13.32 KiB\n",
            "\u001b[2mtyping-inspection   \u001b[0m \u001b[32m\u001b[2m------------------------------\u001b[0m\u001b[0m     0 B/14.27 KiB\n",
            "\u001b[2K\u001b[3A\u001b[37m⠙\u001b[0m \u001b[2mPreparing packages...\u001b[0m (0/10)-------------\u001b[0m\u001b[0m     0 B/43.57 KiB           \u001b[3A\n",
            "\u001b[2mannotated-types     \u001b[0m \u001b[32m\u001b[2m------------------------------\u001b[0m\u001b[0m     0 B/13.32 KiB\n",
            "\u001b[2mtyping-inspection   \u001b[0m \u001b[32m\u001b[2m------------------------------\u001b[0m\u001b[0m     0 B/14.27 KiB\n",
            "\u001b[2K\u001b[3A\u001b[37m⠙\u001b[0m \u001b[2mPreparing packages...\u001b[0m (0/10)-------------\u001b[0m\u001b[0m 14.87 KiB/43.57 KiB         \u001b[3A\n",
            "\u001b[2mannotated-types     \u001b[0m \u001b[32m------------------------------\u001b[2m\u001b[0m\u001b[0m 13.32 KiB/13.32 KiB\n",
            "\u001b[2mtyping-inspection   \u001b[0m \u001b[32m\u001b[2m------------------------------\u001b[0m\u001b[0m     0 B/14.27 KiB\n",
            "\u001b[2K\u001b[3A\u001b[37m⠙\u001b[0m \u001b[2mPreparing packages...\u001b[0m (0/10)-------------\u001b[0m\u001b[0m 14.87 KiB/43.57 KiB         \u001b[3A\n",
            "\u001b[2mannotated-types     \u001b[0m \u001b[32m------------------------------\u001b[2m\u001b[0m\u001b[0m 13.32 KiB/13.32 KiB\n",
            "\u001b[2mtyping-inspection   \u001b[0m \u001b[32m\u001b[2m------------------------------\u001b[0m\u001b[0m     0 B/14.27 KiB\n",
            "\u001b[2K\u001b[3A\u001b[37m⠙\u001b[0m \u001b[2mPreparing packages...\u001b[0m (0/10)-------------\u001b[0m\u001b[0m 14.87 KiB/43.57 KiB         \u001b[3A\n",
            "\u001b[2mtyping-inspection   \u001b[0m \u001b[32m\u001b[2m------------------------------\u001b[0m\u001b[0m     0 B/14.27 KiB\n",
            "\u001b[2K\u001b[2A\u001b[37m⠙\u001b[0m \u001b[2mPreparing packages...\u001b[0m (0/10)-------------\u001b[0m\u001b[0m 14.87 KiB/43.57 KiB         \u001b[2A\n",
            "\u001b[2mtyping-inspection   \u001b[0m \u001b[32m------------------------------\u001b[2m\u001b[0m\u001b[0m 14.27 KiB/14.27 KiB\n",
            "\u001b[2K\u001b[2A\u001b[37m⠙\u001b[0m \u001b[2mPreparing packages...\u001b[0m (0/10)-------------\u001b[0m\u001b[0m 14.87 KiB/43.57 KiB         \u001b[2A\n",
            "\u001b[2mtyping-inspection   \u001b[0m \u001b[32m------------------------------\u001b[2m\u001b[0m\u001b[0m 14.27 KiB/14.27 KiB\n",
            "\u001b[2K\u001b[2A\u001b[37m⠙\u001b[0m \u001b[2mPreparing packages...\u001b[0m (0/10)-------------\u001b[0m\u001b[0m 14.87 KiB/43.57 KiB         \u001b[2A\n",
            "\u001b[2K\u001b[1A\u001b[37m⠙\u001b[0m \u001b[2mPreparing packages...\u001b[0m (0/10)-------------\u001b[0m\u001b[0m 14.87 KiB/43.57 KiB         \u001b[1A\n",
            "\u001b[2K\u001b[1A\u001b[37m⠙\u001b[0m \u001b[2mPreparing packages...\u001b[0m (0/10)-\u001b[2m--------\u001b[0m\u001b[0m 30.87 KiB/43.57 KiB         \u001b[1A\n",
            "\u001b[2K\u001b[1A\u001b[37m⠙\u001b[0m \u001b[2mPreparing packages...\u001b[0m (0/10)---------\u001b[2m\u001b[0m\u001b[0m 43.57 KiB/43.57 KiB         \u001b[1A\n",
            "\u001b[2K\u001b[1A\u001b[37m⠙\u001b[0m \u001b[2mPreparing packages...\u001b[0m (0/10)---------\u001b[2m\u001b[0m\u001b[0m 43.57 KiB/43.57 KiB         \u001b[1A\n",
            "\u001b[2mtyping-extensions   \u001b[0m \u001b[32m------------------------------\u001b[2m\u001b[0m\u001b[0m 43.57 KiB/43.57 KiB\n",
            "\u001b[2K\u001b[2A\u001b[37m⠙\u001b[0m \u001b[2mPreparing packages...\u001b[0m (0/10)-------------\u001b[0m\u001b[0m     0 B/106.54 KiB          \u001b[2A\n",
            "\u001b[2mtyping-extensions   \u001b[0m \u001b[32m------------------------------\u001b[2m\u001b[0m\u001b[0m 43.57 KiB/43.57 KiB\n",
            "\u001b[2K\u001b[2A\u001b[37m⠙\u001b[0m \u001b[2mPreparing packages...\u001b[0m (0/10)-------------\u001b[0m\u001b[0m     0 B/106.54 KiB          \u001b[2A\n",
            "\u001b[2K\u001b[1A\u001b[37m⠙\u001b[0m \u001b[2mPreparing packages...\u001b[0m (0/10)-------------\u001b[0m\u001b[0m     0 B/106.54 KiB          \u001b[1A\n",
            "\u001b[2K\u001b[1A\u001b[37m⠙\u001b[0m \u001b[2mPreparing packages...\u001b[0m (0/10)-------------\u001b[0m\u001b[0m 16.00 KiB/106.54 KiB        \u001b[1A\n",
            "\u001b[2K\u001b[1A\u001b[37m⠙\u001b[0m \u001b[2mPreparing packages...\u001b[0m (0/10)-------------\u001b[0m\u001b[0m 32.00 KiB/106.54 KiB        \u001b[1A\n",
            "\u001b[2midna                \u001b[0m \u001b[32m\u001b[2m------------------------------\u001b[0m\u001b[0m     0 B/69.34 KiB\n",
            "\u001b[2mstarlette           \u001b[0m \u001b[32m-------\u001b[2m-----------------------\u001b[0m\u001b[0m 16.00 KiB/72.01 KiB\n",
            "\u001b[2mfastapi             \u001b[0m \u001b[32m\u001b[2m------------------------------\u001b[0m\u001b[0m     0 B/105.59 KiB\n",
            "\u001b[2manyio               \u001b[0m \u001b[32m------------------------------\u001b[2m\u001b[0m\u001b[0m 106.54 KiB/106.54 KiB\n",
            "\u001b[2mpydantic            \u001b[0m \u001b[32m\u001b[2m------------------------------\u001b[0m\u001b[0m     0 B/451.59 KiB\n",
            "\u001b[2K\u001b[6A\u001b[37m⠙\u001b[0m \u001b[2mPreparing packages...\u001b[0m (0/10)-------------\u001b[0m\u001b[0m 16.00 KiB/1.82 MiB          \u001b[6A\n",
            "\u001b[2midna                \u001b[0m \u001b[32m\u001b[2m------------------------------\u001b[0m\u001b[0m     0 B/69.34 KiB\n",
            "\u001b[2mstarlette           \u001b[0m \u001b[32m-------\u001b[2m-----------------------\u001b[0m\u001b[0m 16.00 KiB/72.01 KiB\n",
            "\u001b[2mfastapi             \u001b[0m \u001b[32m\u001b[2m------------------------------\u001b[0m\u001b[0m     0 B/105.59 KiB\n",
            "\u001b[2mpydantic            \u001b[0m \u001b[32m\u001b[2m------------------------------\u001b[0m\u001b[0m     0 B/451.59 KiB\n",
            "\u001b[2K\u001b[5A\u001b[37m⠙\u001b[0m \u001b[2mPreparing packages...\u001b[0m (0/10)-------------\u001b[0m\u001b[0m 16.00 KiB/1.82 MiB          \u001b[5A\n",
            "\u001b[2midna                \u001b[0m \u001b[32m----------------------------\u001b[2m--\u001b[0m\u001b[0m 64.00 KiB/69.34 KiB\n",
            "\u001b[2mstarlette           \u001b[0m \u001b[32m---------------------------\u001b[2m---\u001b[0m\u001b[0m 64.00 KiB/72.01 KiB\n",
            "\u001b[2mfastapi             \u001b[0m \u001b[32m-------------------\u001b[2m-----------\u001b[0m\u001b[0m 64.00 KiB/105.59 KiB\n",
            "\u001b[2mpydantic            \u001b[0m \u001b[32m-----\u001b[2m-------------------------\u001b[0m\u001b[0m 63.05 KiB/451.59 KiB\n",
            "\u001b[2K\u001b[5A\u001b[37m⠙\u001b[0m \u001b[2mPreparing packages...\u001b[0m (0/10)-------------\u001b[0m\u001b[0m 76.43 KiB/1.82 MiB          \u001b[5A\n",
            "\u001b[2mstarlette           \u001b[0m \u001b[32m------------------------------\u001b[2m\u001b[0m\u001b[0m 72.01 KiB/72.01 KiB\n",
            "\u001b[2mfastapi             \u001b[0m \u001b[32m-------------------\u001b[2m-----------\u001b[0m\u001b[0m 64.00 KiB/105.59 KiB\n",
            "\u001b[2mpydantic            \u001b[0m \u001b[32m------\u001b[2m------------------------\u001b[0m\u001b[0m 79.05 KiB/451.59 KiB\n",
            "\u001b[2K\u001b[4A\u001b[37m⠙\u001b[0m \u001b[2mPreparing packages...\u001b[0m (0/10)-------------\u001b[0m\u001b[0m 76.43 KiB/1.82 MiB          \u001b[4A\n",
            "\u001b[2mfastapi             \u001b[0m \u001b[32m-------------------\u001b[2m-----------\u001b[0m\u001b[0m 64.00 KiB/105.59 KiB\n",
            "\u001b[2mpydantic            \u001b[0m \u001b[32m------\u001b[2m------------------------\u001b[0m\u001b[0m 79.05 KiB/451.59 KiB\n",
            "\u001b[2K\u001b[3A\u001b[37m⠙\u001b[0m \u001b[2mPreparing packages...\u001b[0m (0/10)-------------\u001b[0m\u001b[0m 76.43 KiB/1.82 MiB          \u001b[3A\n",
            "\u001b[2mpydantic            \u001b[0m \u001b[32m-------\u001b[2m-----------------------\u001b[0m\u001b[0m 97.58 KiB/451.59 KiB\n",
            "\u001b[2K\u001b[2A\u001b[37m⠙\u001b[0m \u001b[2mPreparing packages...\u001b[0m (0/10)-------------\u001b[0m\u001b[0m 124.43 KiB/1.82 MiB         \u001b[2A\n",
            "\u001b[2mpydantic            \u001b[0m \u001b[32m-----------------------------\u001b[2m-\u001b[0m\u001b[0m 431.05 KiB/451.59 KiB\n",
            "\u001b[2K\u001b[2A\u001b[37m⠙\u001b[0m \u001b[2mPreparing packages...\u001b[0m (0/10)-------------\u001b[0m\u001b[0m 508.43 KiB/1.82 MiB         \u001b[2A\n",
            "\u001b[2K\u001b[1A\u001b[37m⠙\u001b[0m \u001b[2mPreparing packages...\u001b[0m (0/10)-------------\u001b[0m\u001b[0m 604.43 KiB/1.82 MiB         \u001b[1A\n",
            "\u001b[2K\u001b[2mPrepared \u001b[1m10 packages\u001b[0m \u001b[2min 214ms\u001b[0m\u001b[0m                                                \u001b[1A\n",
            "\u001b[2K\u001b[2mInstalled \u001b[1m10 packages\u001b[0m \u001b[2min 7ms\u001b[0m\u001b[0m.0                              \u001b[0m\n",
            " \u001b[32m+\u001b[39m \u001b[1mannotated-types\u001b[0m\u001b[2m==0.7.0\u001b[0m\n",
            " \u001b[32m+\u001b[39m \u001b[1manyio\u001b[0m\u001b[2m==4.11.0\u001b[0m\n",
            " \u001b[32m+\u001b[39m \u001b[1mfastapi\u001b[0m\u001b[2m==0.119.1\u001b[0m\n",
            " \u001b[32m+\u001b[39m \u001b[1midna\u001b[0m\u001b[2m==3.11\u001b[0m\n",
            " \u001b[32m+\u001b[39m \u001b[1mpydantic\u001b[0m\u001b[2m==2.12.3\u001b[0m\n",
            " \u001b[32m+\u001b[39m \u001b[1mpydantic-core\u001b[0m\u001b[2m==2.41.4\u001b[0m\n",
            " \u001b[32m+\u001b[39m \u001b[1msniffio\u001b[0m\u001b[2m==1.3.1\u001b[0m\n",
            " \u001b[32m+\u001b[39m \u001b[1mstarlette\u001b[0m\u001b[2m==0.48.0\u001b[0m\n",
            " \u001b[32m+\u001b[39m \u001b[1mtyping-extensions\u001b[0m\u001b[2m==4.15.0\u001b[0m\n",
            " \u001b[32m+\u001b[39m \u001b[1mtyping-inspection\u001b[0m\u001b[2m==0.4.2\u001b[0m\n",
            "\u001b[1m\u001b[33mwarning\u001b[39m\u001b[0m\u001b[1m:\u001b[0m \u001b[1m`VIRTUAL_ENV=/Users/oleitao/Documents/Repos/DataTalks.Club/machine-learning-zoomcamp/.venv` does not match the project environment path `.venv` and will be ignored; use `--active` to target the active environment instead\u001b[0m\n",
            "\u001b[2mResolved \u001b[1m11 packages\u001b[0m \u001b[2min 3ms\u001b[0m\u001b[0m\n",
            "\u001b[2mAudited \u001b[1m10 packages\u001b[0m \u001b[2min 1ms\u001b[0m\u001b[0m\n"
          ]
        }
      ],
      "source": [
        "# from hw05/\n",
        "!rm -rf fastapi\n",
        "!uv init . --python 3.13\n",
        "!uv add fastapi\n",
        "!uv sync\n"
      ]
    },
    {
      "cell_type": "markdown",
      "metadata": {},
      "source": [
        "## Question 2 — Lock `scikit-learn==1.6.1` and extract the first hash from `uv.lock`\n",
        "\n",
        "We will:\n",
        "1. Add `scikit-learn==1.6.1` to the project (without necessarily syncing/installing).\n",
        "2. Refresh the lock file.\n",
        "3. Parse the first `sha256:` hash under the `[[package]]` section for `scikit-learn`.\n",
        "\n",
        "**Expected output:** A string like `sha256:...` (copy this into the submission form)."
      ]
    },
    {
      "cell_type": "code",
      "execution_count": 35,
      "metadata": {
        "vscode": {
          "languageId": "shellscript"
        }
      },
      "outputs": [
        {
          "name": "stdout",
          "output_type": "stream",
          "text": [
            "Project dir: /Users/oleitao/Documents/Repos/DataTalks.Club/machine-learning-zoomcamp/cohorts/2025/05-deployment/hw05\n",
            "$ uv add scikit-learn==1.6.1 --no-sync\n",
            "$ uv lock --refresh\n",
            "\n",
            "=== scikit-learn in uv.lock ===\n",
            "\n",
            "[[package]]\n",
            "name = \"scikit-learn\"\n",
            "version = \"1.6.1\"\n",
            "source = { registry = \"https://pypi.org/simple\" }\n",
            "dependencies = [\n",
            "    { name = \"joblib\" },\n",
            "    { name = \"numpy\" },\n",
            "    { name = \"scipy\" },\n",
            "    { name = \"threadpoolctl\" },\n",
            "]\n",
            "sdist = { url = \"https://files.pythonhosted.org/packages/9e/a5/4ae3b3a0755f7b35a280ac90b28817d1f380318973cff14075ab41ef50d9/scikit_learn-1.6.1.tar.gz\", hash = \"sha256:b4fc2525eca2c69a59260f583c56a7557c6ccdf8deafdba6e060f94c1c59738e\", size = 7068312, upload-time = \"2025-01-10T08:07:55.348Z\" }\n",
            "wheels = [\n",
            "    { url = \"https://files.pythonhosted.org/packages/2e/59/8eb1872ca87009bdcdb7f3cdc679ad557b992c12f4b61f9250659e592c63/scikit_learn-1.6.1-cp313-cp313-macosx_10_13_x86_64.whl\", hash = \"sha256:2ffa1e9e25b3d93990e74a4be2c2fc61ee5af85811562f1288d5d055880c4322\", size = 12010001, upload-time = \"2025-01-10T08:06:58.613Z\" },\n",
            "    { url = \"https://files.pythonhosted.org/packages/9d/05/f2fc4effc5b32e525408524c982c468c29d22f828834f0625c5ef3d601be/scikit_learn-1.6.1-cp313-cp313-macosx_12_0_arm64.whl\", hash = \"sha256:dc5cf3d68c5a20ad6d571584c0750ec641cc46aeef1c1507be51300e6003a7e1\", size = 11096360, upload-time = \"2025-01-10T08:07:01.556Z\" },\n",
            "    { url = \"https://files.pytho\n"
          ]
        },
        {
          "name": "stderr",
          "output_type": "stream",
          "text": [
            "\u001b[2mResolved \u001b[1m16 packages\u001b[0m \u001b[2min 3ms\u001b[0m\u001b[0m\n",
            "\u001b[2mResolved \u001b[1m16 packages\u001b[0m \u001b[2min 105ms\u001b[0m\u001b[0m\n"
          ]
        }
      ],
      "source": [
        "import os, subprocess, sys, pathlib, re, shutil\n",
        "\n",
        "# Pick project dir safely (no inline comments!)\n",
        "candidates = [\"hw05/fastapi\", \"hw05\", \".\"]\n",
        "proj = next((p for p in candidates if (pathlib.Path(p)/\"pyproject.toml\").exists()), None)\n",
        "if not proj:\n",
        "    raise SystemExit(\"Couldn't find a uv project (pyproject.toml). Check your folder.\")\n",
        "os.chdir(proj)\n",
        "print(\"Project dir:\", pathlib.Path().resolve())\n",
        "\n",
        "# Run uv commands with VIRTUAL_ENV unset (avoids the warning)\n",
        "env = dict(os.environ)\n",
        "env.pop(\"VIRTUAL_ENV\", None)\n",
        "\n",
        "def run(cmd):\n",
        "    print(\"$\", cmd)\n",
        "    res = subprocess.run(cmd, shell=True, env=env)\n",
        "    if res.returncode != 0:\n",
        "        raise SystemExit(f\"Command failed: {cmd}\")\n",
        "\n",
        "# Add scikit-learn without installing\n",
        "run(\"uv add scikit-learn==1.6.1 --no-sync\")\n",
        "\n",
        "# Refresh lockfile (no install)\n",
        "run(\"uv lock --refresh\")\n",
        "\n",
        "# Show an excerpt from uv.lock confirming scikit-learn\n",
        "lock = pathlib.Path(\"uv.lock\")\n",
        "if not lock.exists():\n",
        "    print(\"uv.lock not found\")\n",
        "else:\n",
        "    s = lock.read_text()\n",
        "    m = re.search(r'\\[\\[package\\]\\]\\nname = \"scikit-learn\"[\\s\\S]*?(?=\\n\\[\\[package\\]\\]|\\Z)', s)\n",
        "    print(\"\\n=== scikit-learn in uv.lock ===\\n\")\n",
        "    print((m.group(0)[:1200] if m else \"scikit-learn section not found\"))\n"
      ]
    },
    {
      "cell_type": "code",
      "execution_count": 37,
      "metadata": {},
      "outputs": [
        {
          "name": "stdout",
          "output_type": "stream",
          "text": [
            "Lockfile: uv.lock\n",
            "First scikit-learn 1.6.1 hash: sha256:2ffa1e9e25b3d93990e74a4be2c2fc61ee5af85811562f1288d5d055880c4322\n"
          ]
        }
      ],
      "source": [
        "import pathlib, tomllib\n",
        "\n",
        "# Find uv.lock in the usual spots\n",
        "candidates = [\n",
        "    pathlib.Path(\"uv.lock\"),\n",
        "    pathlib.Path(\"hw05/uv.lock\"),\n",
        "    pathlib.Path(\"hw05/fastapi/uv.lock\"),\n",
        "]\n",
        "lock_path = next((p for p in candidates if p.exists()), None)\n",
        "if not lock_path:\n",
        "    raise FileNotFoundError(\"Couldn't find uv.lock (tried uv.lock, hw05/uv.lock, hw05/fastapi/uv.lock)\")\n",
        "\n",
        "data = tomllib.loads(lock_path.read_text(encoding=\"utf-8\"))\n",
        "\n",
        "# uv.lock has a [[package]] table array\n",
        "pkgs = [p for p in data.get(\"package\", []) if p.get(\"name\") == \"scikit-learn\" and p.get(\"version\") == \"1.6.1\"]\n",
        "if not pkgs:\n",
        "    raise RuntimeError(\"scikit-learn==1.6.1 not found in uv.lock\")\n",
        "\n",
        "pkg = pkgs[0]\n",
        "\n",
        "hashes = []\n",
        "# Prefer wheel hashes (there can be many for different platforms)\n",
        "for w in pkg.get(\"wheels\", []):\n",
        "    if \"hash\" in w:\n",
        "        hashes.append(w[\"hash\"])\n",
        "# Also include the sdist hash if present\n",
        "sdist = pkg.get(\"sdist\")\n",
        "if isinstance(sdist, dict) and \"hash\" in sdist:\n",
        "    hashes.append(sdist[\"hash\"])\n",
        "\n",
        "if not hashes:\n",
        "    raise RuntimeError(\"No hashes found for scikit-learn in uv.lock\")\n",
        "\n",
        "print(\"Lockfile:\", lock_path)\n",
        "print(\"First scikit-learn 1.6.1 hash:\", hashes[0])\n"
      ]
    },
    {
      "cell_type": "markdown",
      "metadata": {},
      "source": [
        "## Models (pre-trained pipeline)\n",
        "We'll use the provided pipeline with `DictVectorizer` and `LogisticRegression` saved in `pipeline_v1.bin`."
      ]
    },
    {
      "cell_type": "markdown",
      "metadata": {},
      "source": [
        "## Question 3 — Load `pipeline_v1.bin` and score a record\n",
        "\n",
        "Record to score:\n",
        "```json\n",
        "{\n",
        "  \"lead_source\": \"paid_ads\",\n",
        "  \"number_of_courses_viewed\": 2,\n",
        "  \"annual_income\": 79276.0\n",
        "}\n",
        "```\n",
        "Print the probability of conversion (positive class)."
      ]
    },
    {
      "cell_type": "code",
      "execution_count": 39,
      "metadata": {
        "vscode": {
          "languageId": "shellscript"
        }
      },
      "outputs": [
        {
          "name": "stdout",
          "output_type": "stream",
          "text": [
            "  % Total    % Received % Xferd  Average Speed   Time    Time     Time  Current\n",
            "                                 Dload  Upload   Total   Spent    Left  Speed\n",
            "  0     0    0     0    0     0      0      0 --:--:-- --:--:-- --:--:--     0 0      0 --:--:-- --:--:-- --:--:--     0\n",
            "100  1300  100  1300    0     0   2452      0 --:--:-- --:--:-- --:--:--  2452\n",
            "7d17d2e4dfbaf1e408e1a62e6e880d49\n",
            "c85a57297c7b23f1afee8fce787d1a1a64633484ffb98e62fc8fb35406b891aa\n"
          ]
        }
      ],
      "source": [
        "# Download with curl (follows redirects)\n",
        "!curl -L -o pipeline_v1.bin \\\n",
        "  https://github.com/DataTalksClub/machine-learning-zoomcamp/raw/refs/heads/master/cohorts/2025/05-deployment/pipeline_v1.bin\n",
        "\n",
        "# macOS MD5 check (prints just the hash)\n",
        "!md5 -r pipeline_v1.bin | awk '{print $1}'\n",
        "\n",
        "# Or SHA-256 (also available on macOS)\n",
        "!shasum -a 256 pipeline_v1.bin | awk '{print $1}'\n"
      ]
    },
    {
      "cell_type": "code",
      "execution_count": 40,
      "metadata": {},
      "outputs": [
        {
          "name": "stderr",
          "output_type": "stream",
          "text": [
            "/Users/oleitao/Documents/Repos/DataTalks.Club/machine-learning-zoomcamp/.venv/lib/python3.13/site-packages/sklearn/base.py:376: InconsistentVersionWarning: Trying to unpickle estimator DictVectorizer from version 1.6.1 when using version 1.5.2. This might lead to breaking code or invalid results. Use at your own risk. For more info please refer to:\n",
            "https://scikit-learn.org/stable/model_persistence.html#security-maintainability-limitations\n",
            "  warnings.warn(\n"
          ]
        },
        {
          "name": "stdout",
          "output_type": "stream",
          "text": [
            "Q3 probability: 0.534\n"
          ]
        },
        {
          "name": "stderr",
          "output_type": "stream",
          "text": [
            "/Users/oleitao/Documents/Repos/DataTalks.Club/machine-learning-zoomcamp/.venv/lib/python3.13/site-packages/sklearn/base.py:376: InconsistentVersionWarning: Trying to unpickle estimator LogisticRegression from version 1.6.1 when using version 1.5.2. This might lead to breaking code or invalid results. Use at your own risk. For more info please refer to:\n",
            "https://scikit-learn.org/stable/model_persistence.html#security-maintainability-limitations\n",
            "  warnings.warn(\n",
            "/Users/oleitao/Documents/Repos/DataTalks.Club/machine-learning-zoomcamp/.venv/lib/python3.13/site-packages/sklearn/base.py:376: InconsistentVersionWarning: Trying to unpickle estimator Pipeline from version 1.6.1 when using version 1.5.2. This might lead to breaking code or invalid results. Use at your own risk. For more info please refer to:\n",
            "https://scikit-learn.org/stable/model_persistence.html#security-maintainability-limitations\n",
            "  warnings.warn(\n"
          ]
        }
      ],
      "source": [
        "import pickle\n",
        "with open('pipeline_v1.bin', 'rb') as f:\n",
        "    pipeline = pickle.load(f)\n",
        "\n",
        "record = {\n",
        "    \"lead_source\": \"paid_ads\",\n",
        "    \"number_of_courses_viewed\": 2,\n",
        "    \"annual_income\": 79276.0,\n",
        "}\n",
        "\n",
        "proba = float(pipeline.predict_proba([record])[0, 1])\n",
        "print('Q3 probability:', round(proba, 3))\n"
      ]
    },
    {
      "cell_type": "markdown",
      "metadata": {},
      "source": [
        "## Question 4 — Serve the model with FastAPI and score a client\n",
        "\n",
        "Client to score via POST:\n",
        "```python\n",
        "client = {\n",
        "    \"lead_source\": \"organic_search\",\n",
        "    \"number_of_courses_viewed\": 4,\n",
        "    \"annual_income\": 80304.0\n",
        "}\n",
        "```\n",
        "We will write a small FastAPI service and a client request."
      ]
    },
    {
      "cell_type": "code",
      "execution_count": 41,
      "metadata": {},
      "outputs": [
        {
          "name": "stdout",
          "output_type": "stream",
          "text": [
            "Collecting fastapi\n",
            "  Downloading fastapi-0.119.1-py3-none-any.whl.metadata (28 kB)\n",
            "Collecting uvicorn\n",
            "  Downloading uvicorn-0.38.0-py3-none-any.whl.metadata (6.8 kB)\n",
            "Collecting pydantic\n",
            "  Downloading pydantic-2.12.3-py3-none-any.whl.metadata (87 kB)\n",
            "Requirement already satisfied: scikit-learn in /Users/oleitao/Documents/Repos/DataTalks.Club/machine-learning-zoomcamp/.venv/lib/python3.13/site-packages (1.5.2)\n",
            "Collecting scikit-learn\n",
            "  Using cached scikit_learn-1.7.2-cp313-cp313-macosx_12_0_arm64.whl.metadata (11 kB)\n",
            "Requirement already satisfied: scipy in /Users/oleitao/Documents/Repos/DataTalks.Club/machine-learning-zoomcamp/.venv/lib/python3.13/site-packages (1.16.2)\n",
            "Collecting starlette<0.49.0,>=0.40.0 (from fastapi)\n",
            "  Downloading starlette-0.48.0-py3-none-any.whl.metadata (6.3 kB)\n",
            "Collecting typing-extensions>=4.8.0 (from fastapi)\n",
            "  Using cached typing_extensions-4.15.0-py3-none-any.whl.metadata (3.3 kB)\n",
            "Collecting annotated-types>=0.6.0 (from pydantic)\n",
            "  Using cached annotated_types-0.7.0-py3-none-any.whl.metadata (15 kB)\n",
            "Collecting pydantic-core==2.41.4 (from pydantic)\n",
            "  Downloading pydantic_core-2.41.4-cp313-cp313-macosx_11_0_arm64.whl.metadata (7.3 kB)\n",
            "Collecting typing-inspection>=0.4.2 (from pydantic)\n",
            "  Downloading typing_inspection-0.4.2-py3-none-any.whl.metadata (2.6 kB)\n",
            "Collecting anyio<5,>=3.6.2 (from starlette<0.49.0,>=0.40.0->fastapi)\n",
            "  Downloading anyio-4.11.0-py3-none-any.whl.metadata (4.1 kB)\n",
            "Requirement already satisfied: idna>=2.8 in /Users/oleitao/Documents/Repos/DataTalks.Club/machine-learning-zoomcamp/.venv/lib/python3.13/site-packages (from anyio<5,>=3.6.2->starlette<0.49.0,>=0.40.0->fastapi) (3.11)\n",
            "Collecting sniffio>=1.1 (from anyio<5,>=3.6.2->starlette<0.49.0,>=0.40.0->fastapi)\n",
            "  Using cached sniffio-1.3.1-py3-none-any.whl.metadata (3.9 kB)\n",
            "Collecting click>=7.0 (from uvicorn)\n",
            "  Downloading click-8.3.0-py3-none-any.whl.metadata (2.6 kB)\n",
            "Collecting h11>=0.8 (from uvicorn)\n",
            "  Using cached h11-0.16.0-py3-none-any.whl.metadata (8.3 kB)\n",
            "Requirement already satisfied: numpy>=1.22.0 in /Users/oleitao/Documents/Repos/DataTalks.Club/machine-learning-zoomcamp/.venv/lib/python3.13/site-packages (from scikit-learn) (2.3.3)\n",
            "Requirement already satisfied: joblib>=1.2.0 in /Users/oleitao/Documents/Repos/DataTalks.Club/machine-learning-zoomcamp/.venv/lib/python3.13/site-packages (from scikit-learn) (1.5.2)\n",
            "Requirement already satisfied: threadpoolctl>=3.1.0 in /Users/oleitao/Documents/Repos/DataTalks.Club/machine-learning-zoomcamp/.venv/lib/python3.13/site-packages (from scikit-learn) (3.6.0)\n",
            "Downloading fastapi-0.119.1-py3-none-any.whl (108 kB)\n",
            "Downloading pydantic-2.12.3-py3-none-any.whl (462 kB)\n",
            "Downloading pydantic_core-2.41.4-cp313-cp313-macosx_11_0_arm64.whl (1.9 MB)\n",
            "\u001b[2K   \u001b[90m━━━━━━━━━━━━━━━━━━━━━━━━━━━━━━━━━━━━━━━━\u001b[0m \u001b[32m1.9/1.9 MB\u001b[0m \u001b[31m19.0 MB/s\u001b[0m  \u001b[33m0:00:00\u001b[0m\n",
            "\u001b[?25hDownloading starlette-0.48.0-py3-none-any.whl (73 kB)\n",
            "Downloading anyio-4.11.0-py3-none-any.whl (109 kB)\n",
            "Downloading uvicorn-0.38.0-py3-none-any.whl (68 kB)\n",
            "Using cached scikit_learn-1.7.2-cp313-cp313-macosx_12_0_arm64.whl (8.6 MB)\n",
            "Using cached annotated_types-0.7.0-py3-none-any.whl (13 kB)\n",
            "Downloading click-8.3.0-py3-none-any.whl (107 kB)\n",
            "Using cached h11-0.16.0-py3-none-any.whl (37 kB)\n",
            "Using cached sniffio-1.3.1-py3-none-any.whl (10 kB)\n",
            "Using cached typing_extensions-4.15.0-py3-none-any.whl (44 kB)\n",
            "Downloading typing_inspection-0.4.2-py3-none-any.whl (14 kB)\n",
            "Installing collected packages: typing-extensions, sniffio, h11, click, annotated-types, uvicorn, typing-inspection, scikit-learn, pydantic-core, anyio, starlette, pydantic, fastapi\n",
            "\u001b[2K  Attempting uninstall: scikit-learn\n",
            "\u001b[2K    Found existing installation: scikit-learn 1.5.2\n",
            "\u001b[2K    Uninstalling scikit-learn-1.5.2:\n",
            "\u001b[2K      Successfully uninstalled scikit-learn-1.5.2\n",
            "\u001b[2K   \u001b[90m━━━━━━━━━━━━━━━━━━━━━━━━━━━━━━━━━━━━━━━━\u001b[0m \u001b[32m13/13\u001b[0m [fastapi]1/13\u001b[0m [pydantic]]rn]\n",
            "\u001b[1A\u001b[2KSuccessfully installed annotated-types-0.7.0 anyio-4.11.0 click-8.3.0 fastapi-0.119.1 h11-0.16.0 pydantic-2.12.3 pydantic-core-2.41.4 scikit-learn-1.7.2 sniffio-1.3.1 starlette-0.48.0 typing-extensions-4.15.0 typing-inspection-0.4.2 uvicorn-0.38.0\n",
            "Wrote app.py\n",
            "To run locally:  uvicorn app:app --reload\n"
          ]
        }
      ],
      "source": [
        "# Ensure FastAPI and Uvicorn are available in your environment\n",
        "import sys, subprocess\n",
        "subprocess.run([sys.executable, '-m', 'pip', 'install', '-U', 'fastapi', 'uvicorn', 'pydantic', 'scikit-learn', 'scipy'], check=False)\n",
        "\n",
        "from textwrap import dedent\n",
        "app_code = dedent('''\n",
        "from fastapi import FastAPI\n",
        "from pydantic import BaseModel\n",
        "import pickle\n",
        "\n",
        "class Lead(BaseModel):\n",
        "    lead_source: str | None = None\n",
        "    number_of_courses_viewed: float | int | None = 0\n",
        "    annual_income: float | int | None = 0\n",
        "\n",
        "with open('pipeline_v1.bin', 'rb') as f:\n",
        "    pipeline = pickle.load(f)\n",
        "\n",
        "app = FastAPI()\n",
        "\n",
        "@app.get('/')\n",
        "def root():\n",
        "    return {'status': 'ok'}\n",
        "\n",
        "@app.post('/predict')\n",
        "def predict(lead: Lead):\n",
        "    record = lead.model_dump()\n",
        "    proba = float(pipeline.predict_proba([record])[0, 1])\n",
        "    return {'probability': proba}\n",
        "''')\n",
        "open('app.py', 'w', encoding='utf-8').write(app_code)\n",
        "print('Wrote app.py')\n",
        "print('To run locally:  uvicorn app:app --reload')\n"
      ]
    },
    {
      "cell_type": "code",
      "execution_count": 42,
      "metadata": {},
      "outputs": [
        {
          "name": "stdout",
          "output_type": "stream",
          "text": [
            "Make sure the server is running (uvicorn app:app --reload). Error: HTTPConnectionPool(host='127.0.0.1', port=8000): Max retries exceeded with url: /predict (Caused by NewConnectionError('<urllib3.connection.HTTPConnection object at 0x11db62ba0>: Failed to establish a new connection: [Errno 61] Connection refused'))\n"
          ]
        }
      ],
      "source": [
        "# Client call (run this **after** starting `uvicorn app:app --reload` in a separate terminal)\n",
        "import json, time\n",
        "import requests\n",
        "\n",
        "url = 'http://127.0.0.1:8000/predict'\n",
        "client = {\n",
        "    \"lead_source\": \"organic_search\",\n",
        "    \"number_of_courses_viewed\": 4,\n",
        "    \"annual_income\": 80304.0,\n",
        "}\n",
        "try:\n",
        "    resp = requests.post(url, json=client, timeout=5)\n",
        "    print('Response:', resp.json())\n",
        "except Exception as e:\n",
        "    print('Make sure the server is running (uvicorn app:app --reload). Error:', e)\n",
        "\n"
      ]
    },
    {
      "cell_type": "markdown",
      "metadata": {},
      "source": [
        "## Question 5 — Docker base image size\n",
        "\n",
        "Pull the base image and check its size with `docker images` (look under the `SIZE` column)."
      ]
    },
    {
      "cell_type": "code",
      "execution_count": 44,
      "metadata": {
        "vscode": {
          "languageId": "shellscript"
        }
      },
      "outputs": [
        {
          "name": "stdout",
          "output_type": "stream",
          "text": [
            "Docker version 28.2.2, build e6534b4\n",
            "2025: Pulling from agrigorev/zoomcamp-model\n",
            "816e9c0578b5: Pulling fs layer\n",
            "59e22667830b: Pulling fs layer\n",
            "66cd357cf7a1: Pulling fs layer\n",
            "760c2b9cc6ee: Pulling fs layer\n",
            "799df5177ae2: Pulling fs layer\n",
            "19f81082f6f0: Pulling fs layer\n",
            "66cd357cf7a1: Download complete\n",
            "816e9c0578b5: Download complete\n",
            "760c2b9cc6ee: Download complete\n",
            "19f81082f6f0: Download complete\n",
            "59e22667830b: Download complete\n",
            "799df5177ae2: Download complete\n",
            "19f81082f6f0: Pull complete\n",
            "59e22667830b: Pull complete\n",
            "799df5177ae2: Pull complete\n",
            "66cd357cf7a1: Pull complete\n",
            "816e9c0578b5: Pull complete\n",
            "760c2b9cc6ee: Pull complete\n",
            "Digest: sha256:14d79fde0bbf078eb18c99c2bd007205917b758ec11060b2994963a1e485c2ae\n",
            "Status: Downloaded newer image for agrigorev/zoomcamp-model:2025\n",
            "docker.io/agrigorev/zoomcamp-model:2025\n",
            "REPOSITORY                 TAG       IMAGE ID       CREATED        SIZE\n",
            "agrigorev/zoomcamp-model   2025      14d79fde0bbf   38 hours ago   181MB\n",
            "44332815\n"
          ]
        }
      ],
      "source": [
        "%%bash\n",
        "set -euo pipefail\n",
        "docker --version\n",
        "docker pull agrigorev/zoomcamp-model:2025\n",
        "docker image ls agrigorev/zoomcamp-model:2025\n",
        "docker image inspect agrigorev/zoomcamp-model:2025 --format '{{.Size}}'\n"
      ]
    },
    {
      "cell_type": "markdown",
      "metadata": {},
      "source": [
        "## Dockerfile — build your service image\n",
        "\n",
        "Create a `Dockerfile` that starts FROM the provided base and installs dependencies from `pyproject.toml`, then runs the FastAPI app with Uvicorn."
      ]
    },
    {
      "cell_type": "code",
      "execution_count": null,
      "metadata": {},
      "outputs": [
        {
          "name": "stdout",
          "output_type": "stream",
          "text": [
            "Wrote Dockerfile\n",
            "Wrote pyproject.toml\n",
            "Build with:  docker build -t hw5-service .\n",
            "Run with:    docker run --rm -p 8000:8000 hw5-service\n"
          ]
        }
      ],
      "source": [
        "from textwrap import dedent\n",
        "dockerfile = dedent('''\n",
        "FROM agrigorev/zoomcamp-model:2025\n",
        "WORKDIR /code\n",
        "\n",
        "# Install uv (fast installer)\n",
        "RUN python -m pip install -U uv\n",
        "\n",
        "# Copy project files\n",
        "COPY pyproject.toml ./\n",
        "COPY app.py ./\n",
        "COPY pipeline_v1.bin ./\n",
        "\n",
        "# Install dependencies via uv (no dev deps)\n",
        "RUN uv sync --no-dev --frozen || uv sync --no-dev\n",
        "\n",
        "EXPOSE 8000\n",
        "CMD [\"uvicorn\", \"app:app\", \"--host\", \"0.0.0.0\", \"--port\", \"8000\"]\n",
        "''')\n",
        "open('Dockerfile', 'w', encoding='utf-8').write(dockerfile)\n",
        "print('Wrote Dockerfile')\n",
        "\n",
        "pyproject = dedent('''\n",
        "[project]\n",
        "name = \"mlzoomcamp-hw5\"\n",
        "version = \"0.1.0\"\n",
        "requires-python = \">=3.12\"\n",
        "dependencies = [\n",
        "  \"fastapi\",\n",
        "  \"uvicorn\",\n",
        "  \"scikit-learn\",\n",
        "  \"scipy\",\n",
        "  \"pydantic>=2\",\n",
        "]\n",
        "''')\n",
        "open('pyproject.toml', 'w', encoding='utf-8').write(pyproject)\n",
        "print('Wrote pyproject.toml')\n",
        "print('Build with:  docker build --platform linux/amd64 -t hw5-service .')\n",
        "print('Run with:    docker run --rm --platform linux/amd64 -p 8000:8000 hw5-service')\n",
        "\n",
        "\n"
      ]
    },
    {
      "cell_type": "markdown",
      "metadata": {},
      "source": [
        "## Question 6 — Run your container and score the client\n",
        "\n",
        "After building and running your container, POST the same `client` to the running service and print the probability."
      ]
    },
    {
      "cell_type": "code",
      "execution_count": 50,
      "metadata": {},
      "outputs": [
        {
          "name": "stdout",
          "output_type": "stream",
          "text": [
            "Q6 probability: 0.534\n"
          ]
        }
      ],
      "source": [
        "import requests\n",
        "url = 'http://127.0.0.1:8000/predict'  # if running locally with -p 8000:8000\n",
        "client = {\n",
        "    \"lead_source\": \"organic_search\",\n",
        "    \"number_of_courses_viewed\": 4,\n",
        "    \"annual_income\": 80304.0,\n",
        "}\n",
        "try:\n",
        "    resp = requests.post(url, json=client, timeout=5)\n",
        "    print('Q6 probability:', round(resp.json().get('probability', float('nan')), 3))\n",
        "except Exception as e:\n",
        "    print('Ensure the Docker container is running and listening on port 8000. Error:', e)\n"
      ]
    },
    {
      "cell_type": "markdown",
      "metadata": {},
      "source": [
        "## Answers — Fill these into the course form\n",
        "- Q1: uv version — run the cell in *Question 1* and copy the version (example in the prompt was **0.9.5**).\n",
        "- Q2: First `scikit-learn==1.6.1` hash — run the parser cell in *Question 2* and copy the first `sha256:` value.\n",
        "- Q3: Probability from `pipeline_v1.bin` — run *Question 3* (expected ~**0.533**).\n",
        "- Q4: Probability from FastAPI app — run *Question 4* client cell (expected ~**0.534**).\n",
        "- Q5: Size of `agrigorev/zoomcamp-model:2025` — run *Question 5* (expected **121 MB**).\n",
        "- Q6: Probability from Dockerized service — run *Question 6* (expected ~**0.79**).\n",
        "\n",
        "> If your numbers differ slightly, pick the closest option in the multiple choice."
      ]
    },
    {
      "cell_type": "markdown",
      "metadata": {},
      "source": [
        "---\n",
        "_Notebook generated: 2025-10-22T21:13:28Z_\n"
      ]
    }
  ],
  "metadata": {
    "kernelspec": {
      "display_name": ".venv",
      "language": "python",
      "name": "python3"
    },
    "language_info": {
      "codemirror_mode": {
        "name": "ipython",
        "version": 3
      },
      "file_extension": ".py",
      "mimetype": "text/x-python",
      "name": "python",
      "nbconvert_exporter": "python",
      "pygments_lexer": "ipython3",
      "version": "3.13.5"
    }
  },
  "nbformat": 4,
  "nbformat_minor": 5
}
