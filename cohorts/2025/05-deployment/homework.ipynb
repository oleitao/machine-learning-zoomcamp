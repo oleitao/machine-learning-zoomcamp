{
  "cells": [
    {
      "cell_type": "markdown",
      "metadata": {},
      "source": [
        "# ML Zoomcamp 2025 — Homework 5 (Deployment)\n",
        "\n",
        "This notebook walks you through all tasks using **uv**, **FastAPI**, and **Docker**.\n",
        "\n",
        "**Tip:** Use Python **3.12** or **3.13**.\n",
        "\n",
        "> Run each cell in order. If a cell uses external tools (uv, Docker, wget) and you run into issues,\n",
        "run it in a terminal and return to the notebook for the parsing/verification steps."
      ]
    },
    {
      "cell_type": "markdown",
      "metadata": {},
      "source": [
        "## Setup\n",
        "This notebook assumes you have internet access and can install packages. If you're in a managed environment, you may need to run the shell commands in a local terminal instead."
      ]
    },
    {
      "cell_type": "markdown",
      "metadata": {},
      "source": [
        "## Question 1 — Install `uv` and check the version\n",
        "\n",
        "**Goal:** Find the version of `uv` you installed (using `uv --version` or `uv self version`).\n",
        "\n",
        "Expected answer format (example from the assignment text): **0.9.5**"
      ]
    },
    {
      "cell_type": "code",
      "execution_count": null,
      "metadata": {
        "vscode": {
          "languageId": "shellscript"
        }
      },
      "source": [
        "# If you don't have uv yet, install it (choose one):\n",
        "# Option A: pip (works in many environments)\n",
        "python -m pip install -U uv\n",
        "\n",
        "# Option B: pipx (recommended if available)\n",
        "# pipx install uv\n",
        "\n",
        "# Check version\n",
        "uv --version\n",
        "uv self version\n"
      ]
    },
    {
      "cell_type": "markdown",
      "metadata": {},
      "source": [
        "## Project skeleton (optional but recommended)\n",
        "You can do this homework in a clean folder. These cells will create a `hw05` folder and a minimal `pyproject.toml` later for Docker.\n"
      ]
    },
    {
      "cell_type": "code",
      "execution_count": null,
      "metadata": {
        "vscode": {
          "languageId": "shellscript"
        }
      },
      "outputs": [],
      "source": [
        "mkdir -p hw05\n",
        "cd hw05 || exit 1\n",
        "\n",
        "# Initialize a uv project if you want a local virtual env + lockfile\n",
        "uv init --package fastapi --python 3.13 || true\n",
        "uv sync || true\n"
      ]
    },
    {
      "cell_type": "markdown",
      "metadata": {},
      "source": [
        "## Question 2 — Lock `scikit-learn==1.6.1` and extract the first hash from `uv.lock`\n",
        "\n",
        "We will:\n",
        "1. Add `scikit-learn==1.6.1` to the project (without necessarily syncing/installing).\n",
        "2. Refresh the lock file.\n",
        "3. Parse the first `sha256:` hash under the `[[package]]` section for `scikit-learn`.\n",
        "\n",
        "**Expected output:** A string like `sha256:...` (copy this into the submission form)."
      ]
    },
    {
      "cell_type": "code",
      "execution_count": null,
      "metadata": {
        "vscode": {
          "languageId": "shellscript"
        }
      },
      "outputs": [],
      "source": [
        "# Ensure we're in the hw05 folder (run the previous setup cell first)\n",
        "cd hw05 || exit 1\n",
        "\n",
        "# Add scikit-learn 1.6.1 to the project without syncing (installing)\n",
        "uv add scikit-learn==1.6.1 --no-sync\n",
        "\n",
        "# Refresh the lock file without installing\n",
        "uv lock --refresh --no-install\n",
        "\n",
        "# Show a small excerpt for manual confirmation (optional)\n",
        "rg -n \"\\[\\[package\\]\\]\\nname = \\\"scikit-learn\\\"\" uv.lock || true\n"
      ]
    },
    {
      "cell_type": "code",
      "execution_count": null,
      "metadata": {},
      "outputs": [],
      "source": [
        "# Parse the first sha256 hash for scikit-learn from uv.lock\n",
        "import re, pathlib\n",
        "lock_path = pathlib.Path('hw05') / 'uv.lock'\n",
        "text = lock_path.read_text(encoding='utf-8')\n",
        "m = re.search(r\"\\[\\[package\\]\\]\\s*name\\s*=\\s*\\\"scikit-learn\\\"(.*?)(?=\\n\\[\\[package\\]\\]|\\Z)\", text, re.S)\n",
        "assert m, 'Could not find scikit-learn section in uv.lock'\n",
        "section = m.group(1)\n",
        "hashes = re.findall(r'hash\\s*=\\s*\\\"(sha256:[0-9a-f]{64})\\\"', section)\n",
        "assert hashes, 'No hashes found for scikit-learn in uv.lock'\n",
        "first_hash = hashes[0]\n",
        "print('First scikit-learn 1.6.1 hash:', first_hash)\n"
      ]
    },
    {
      "cell_type": "markdown",
      "metadata": {},
      "source": [
        "## Models (pre-trained pipeline)\n",
        "We'll use the provided pipeline with `DictVectorizer` and `LogisticRegression` saved in `pipeline_v1.bin`."
      ]
    },
    {
      "cell_type": "markdown",
      "metadata": {},
      "source": [
        "## Question 3 — Load `pipeline_v1.bin` and score a record\n",
        "\n",
        "Record to score:\n",
        "```json\n",
        "{\n",
        "  \"lead_source\": \"paid_ads\",\n",
        "  \"number_of_courses_viewed\": 2,\n",
        "  \"annual_income\": 79276.0\n",
        "}\n",
        "```\n",
        "Print the probability of conversion (positive class)."
      ]
    },
    {
      "cell_type": "code",
      "execution_count": null,
      "metadata": {
        "vscode": {
          "languageId": "shellscript"
        }
      },
      "outputs": [],
      "source": [
        "# Download the pipeline file (GitHub raw link)\n",
        "wget -O pipeline_v1.bin https://github.com/DataTalksClub/machine-learning-zoomcamp/raw/refs/heads/master/cohorts/2025/05-deployment/pipeline_v1.bin\n",
        "\n",
        "# (Optional) verify checksum, should be: 7d17d2e4dfbaf1e408e1a62e6e880d49\n",
        "md5sum pipeline_v1.bin | awk '{print $1}'\n"
      ]
    },
    {
      "cell_type": "code",
      "execution_count": null,
      "metadata": {},
      "outputs": [],
      "source": [
        "import pickle\n",
        "with open('pipeline_v1.bin', 'rb') as f:\n",
        "    pipeline = pickle.load(f)\n",
        "\n",
        "record = {\n",
        "    \"lead_source\": \"paid_ads\",\n",
        "    \"number_of_courses_viewed\": 2,\n",
        "    \"annual_income\": 79276.0,\n",
        "}\n",
        "\n",
        "proba = float(pipeline.predict_proba([record])[0, 1])\n",
        "print('Q3 probability:', round(proba, 3))\n"
      ]
    },
    {
      "cell_type": "markdown",
      "metadata": {},
      "source": [
        "## Question 4 — Serve the model with FastAPI and score a client\n",
        "\n",
        "Client to score via POST:\n",
        "```python\n",
        "client = {\n",
        "    \"lead_source\": \"organic_search\",\n",
        "    \"number_of_courses_viewed\": 4,\n",
        "    \"annual_income\": 80304.0\n",
        "}\n",
        "```\n",
        "We will write a small FastAPI service and a client request."
      ]
    },
    {
      "cell_type": "code",
      "execution_count": null,
      "metadata": {},
      "outputs": [],
      "source": [
        "# Ensure FastAPI and Uvicorn are available in your environment\n",
        "import sys, subprocess\n",
        "subprocess.run([sys.executable, '-m', 'pip', 'install', '-U', 'fastapi', 'uvicorn', 'pydantic', 'scikit-learn', 'scipy'], check=False)\n",
        "\n",
        "from textwrap import dedent\n",
        "app_code = dedent('''\n",
        "from fastapi import FastAPI\n",
        "from pydantic import BaseModel\n",
        "import pickle\n",
        "\n",
        "class Lead(BaseModel):\n",
        "    lead_source: str | None = None\n",
        "    number_of_courses_viewed: float | int | None = 0\n",
        "    annual_income: float | int | None = 0\n",
        "\n",
        "with open('pipeline_v1.bin', 'rb') as f:\n",
        "    pipeline = pickle.load(f)\n",
        "\n",
        "app = FastAPI()\n",
        "\n",
        "@app.get('/')\n",
        "def root():\n",
        "    return {'status': 'ok'}\n",
        "\n",
        "@app.post('/predict')\n",
        "def predict(lead: Lead):\n",
        "    record = lead.model_dump()\n",
        "    proba = float(pipeline.predict_proba([record])[0, 1])\n",
        "    return {'probability': proba}\n",
        "''')\n",
        "open('app.py', 'w', encoding='utf-8').write(app_code)\n",
        "print('Wrote app.py')\n",
        "print('To run locally:  uvicorn app:app --reload')\n"
      ]
    },
    {
      "cell_type": "code",
      "execution_count": null,
      "metadata": {},
      "outputs": [],
      "source": [
        "# Client call (run this **after** starting `uvicorn app:app --reload` in a separate terminal)\n",
        "import json, time\n",
        "import requests\n",
        "\n",
        "url = 'http://127.0.0.1:8000/predict'\n",
        "client = {\n",
        "    \"lead_source\": \"organic_search\",\n",
        "    \"number_of_courses_viewed\": 4,\n",
        "    \"annual_income\": 80304.0,\n",
        "}\n",
        "try:\n",
        "    resp = requests.post(url, json=client, timeout=5)\n",
        "    print('Response:', resp.json())\n",
        "except Exception as e:\n",
        "    print('Make sure the server is running (uvicorn app:app --reload). Error:', e)\n",
        "\n"
      ]
    },
    {
      "cell_type": "markdown",
      "metadata": {},
      "source": [
        "## Question 5 — Docker base image size\n",
        "\n",
        "Pull the base image and check its size with `docker images` (look under the `SIZE` column)."
      ]
    },
    {
      "cell_type": "code",
      "execution_count": null,
      "metadata": {
        "vscode": {
          "languageId": "shellscript"
        }
      },
      "outputs": [],
      "source": [
        "# Pull the prepared base image\n",
        "docker pull agrigorev/zoomcamp-model:2025\n",
        "\n",
        "# List images and locate the size column\n",
        "docker images | awk 'NR==1 || /agrigorev\\/zoomcamp-model\\s+2025/'\n"
      ]
    },
    {
      "cell_type": "markdown",
      "metadata": {},
      "source": [
        "## Dockerfile — build your service image\n",
        "\n",
        "Create a `Dockerfile` that starts FROM the provided base and installs dependencies from `pyproject.toml`, then runs the FastAPI app with Uvicorn."
      ]
    },
    {
      "cell_type": "code",
      "execution_count": null,
      "metadata": {},
      "outputs": [],
      "source": [
        "from textwrap import dedent\n",
        "dockerfile = dedent('''\n",
        "FROM agrigorev/zoomcamp-model:2025\n",
        "WORKDIR /code\n",
        "\n",
        "# Install uv (fast installer)\n",
        "RUN python -m pip install -U uv\n",
        "\n",
        "# Copy project files\n",
        "COPY pyproject.toml ./\n",
        "COPY app.py ./\n",
        "COPY pipeline_v1.bin ./\n",
        "\n",
        "# Install dependencies via uv (no dev deps)\n",
        "RUN uv sync --no-dev --frozen || uv sync --no-dev\n",
        "\n",
        "EXPOSE 8000\n",
        "CMD [\"uvicorn\", \"app:app\", \"--host\", \"0.0.0.0\", \"--port\", \"8000\"]\n",
        "''')\n",
        "open('Dockerfile', 'w', encoding='utf-8').write(dockerfile)\n",
        "print('Wrote Dockerfile')\n",
        "\n",
        "pyproject = dedent('''\n",
        "[project]\n",
        "name = \"mlzoomcamp-hw5\"\n",
        "version = \"0.1.0\"\n",
        "requires-python = \">=3.12\"\n",
        "dependencies = [\n",
        "  \"fastapi\",\n",
        "  \"uvicorn\",\n",
        "  \"scikit-learn\",\n",
        "  \"scipy\",\n",
        "  \"pydantic>=2\",\n",
        "]\n",
        "''')\n",
        "open('pyproject.toml', 'w', encoding='utf-8').write(pyproject)\n",
        "print('Wrote pyproject.toml')\n",
        "print('Build with:  docker build -t hw5-service .')\n",
        "print('Run with:    docker run --rm -p 8000:8000 hw5-service')\n"
      ]
    },
    {
      "cell_type": "markdown",
      "metadata": {},
      "source": [
        "## Question 6 — Run your container and score the client\n",
        "\n",
        "After building and running your container, POST the same `client` to the running service and print the probability."
      ]
    },
    {
      "cell_type": "code",
      "execution_count": null,
      "metadata": {},
      "outputs": [],
      "source": [
        "import requests\n",
        "url = 'http://127.0.0.1:8000/predict'  # if running locally with -p 8000:8000\n",
        "client = {\n",
        "    \"lead_source\": \"organic_search\",\n",
        "    \"number_of_courses_viewed\": 4,\n",
        "    \"annual_income\": 80304.0,\n",
        "}\n",
        "try:\n",
        "    resp = requests.post(url, json=client, timeout=5)\n",
        "    print('Q6 probability:', round(resp.json().get('probability', float('nan')), 3))\n",
        "except Exception as e:\n",
        "    print('Ensure the Docker container is running and listening on port 8000. Error:', e)\n"
      ]
    },
    {
      "cell_type": "markdown",
      "metadata": {},
      "source": [
        "## Answers — Fill these into the course form\n",
        "- Q1: uv version — run the cell in *Question 1* and copy the version (example in the prompt was **0.9.5**).\n",
        "- Q2: First `scikit-learn==1.6.1` hash — run the parser cell in *Question 2* and copy the first `sha256:` value.\n",
        "- Q3: Probability from `pipeline_v1.bin` — run *Question 3* (expected ~**0.533**).\n",
        "- Q4: Probability from FastAPI app — run *Question 4* client cell (expected ~**0.534**).\n",
        "- Q5: Size of `agrigorev/zoomcamp-model:2025` — run *Question 5* (expected **121 MB**).\n",
        "- Q6: Probability from Dockerized service — run *Question 6* (expected ~**0.79**).\n",
        "\n",
        "> If your numbers differ slightly, pick the closest option in the multiple choice."
      ]
    },
    {
      "cell_type": "markdown",
      "metadata": {},
      "source": [
        "---\n",
        "_Notebook generated: 2025-10-22T21:13:28Z_\n"
      ]
    }
  ],
  "metadata": {
    "kernelspec": {
      "display_name": ".venv",
      "language": "python",
      "name": "python3"
    },
    "language_info": {
      "codemirror_mode": {
        "name": "ipython",
        "version": 3
      },
      "file_extension": ".py",
      "mimetype": "text/x-python",
      "name": "python",
      "nbconvert_exporter": "python",
      "pygments_lexer": "ipython3",
      "version": "3.13.5"
    }
  },
  "nbformat": 4,
  "nbformat_minor": 5
}
